{
 "cells": [
  {
   "cell_type": "markdown",
   "metadata": {},
   "source": [
    "# `jupyter_manim` test\n",
    "\n",
    "In this notebook an example to test the [jupyter_manim](https://github.com/krassowski/jupyter-manim) library is run. The example was taken from the [malhotra5 tutorial](https://github.com/malhotra5/Manim-Tutorial#text). I have adapted it similarly to the [example](https://github.com/krassowski/jupyter-manim#usage) given in `jupyter_manim` repo. First, you import `jupyter_manim`:"
   ]
  },
  {
   "cell_type": "code",
   "execution_count": 15,
   "metadata": {},
   "outputs": [],
   "source": [
    "import jupyter_manim"
   ]
  },
  {
   "cell_type": "markdown",
   "metadata": {},
   "source": [
    "After importing, you can run your code. If you use e.g. the class `makeText`, then you should use the cell magic `%%manim makeText`. If you used the class `Shapes` in your code, then you would put that one in front of `%%manim`"
   ]
  },
  {
   "cell_type": "code",
   "execution_count": 16,
   "metadata": {},
   "outputs": [
    {
     "data": {
      "text/html": [
       "\n",
       "    <video\n",
       "      width=\"854\"\n",
       "      height=\"480\"\n",
       "      autoplay=\"autoplay\"\n",
       "      controls\n",
       "    >\n",
       "        <source src=\"videos\\tmp2m641_yf\\1440p60\\makeText.mp4\" type=\"video/mp4\">\n",
       "    </video>\n",
       "    "
      ],
      "text/plain": [
       "<IPython.core.display.HTML object>"
      ]
     },
     "execution_count": 16,
     "metadata": {},
     "output_type": "execute_result"
    }
   ],
   "source": [
    "%%manim makeText\n",
    "from manimlib.imports import *\n",
    "\n",
    "class makeText(Scene):\n",
    "    def construct(self):\n",
    "        #######Code#######\n",
    "        #Making text\n",
    "        first_line = TextMobject(\"Manim is fun\")\n",
    "        second_line = TextMobject(\"and useful\")\n",
    "        final_line = TextMobject(\"Hope you like it too!\", color=BLUE)\n",
    "        color_final_line = TextMobject(\"Hope you like it too!\")\n",
    "\n",
    "        #Coloring\n",
    "        color_final_line.set_color_by_gradient(BLUE,PURPLE)\n",
    "\n",
    "        #Position text\n",
    "        second_line.next_to(first_line, DOWN)\n",
    "\n",
    "        #Showing text\n",
    "        self.wait(1)\n",
    "        self.play(Write(first_line), Write(second_line))\n",
    "        self.wait(1)\n",
    "        self.play(FadeOut(second_line), ReplacementTransform(first_line, final_line))\n",
    "        self.wait(1)\n",
    "        self.play(Transform(final_line, color_final_line))\n",
    "        self.wait(2)"
   ]
  }
 ],
 "metadata": {
  "kernelspec": {
   "display_name": "jupyter_manim_venv",
   "language": "python",
   "name": "jupyter_manim_venv"
  },
  "language_info": {
   "codemirror_mode": {
    "name": "ipython",
    "version": 3
   },
   "file_extension": ".py",
   "mimetype": "text/x-python",
   "name": "python",
   "nbconvert_exporter": "python",
   "pygments_lexer": "ipython3",
   "version": "3.7.3"
  }
 },
 "nbformat": 4,
 "nbformat_minor": 4
}
